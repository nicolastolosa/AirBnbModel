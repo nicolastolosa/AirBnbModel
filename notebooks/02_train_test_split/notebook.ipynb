{
 "cells": [
  {
   "cell_type": "markdown",
   "metadata": {},
   "source": [
    "# Train-test split\n",
    "\n",
    "------------------\n",
    "![GitHub](https://img.shields.io/github/license/nicolastolosa/AirBnbModel)\n",
    "\n",
    "**Author:** Nicolás Tolosa (github nicolastolosa)\n",
    "\n",
    "**Achievements:** **(1)** Separation of the train and test datasets for ``users`` and ``sessions`` datasets, using *stratified train_test split* to mantain the proportion of the target variable ``country_destination`` in both datasets. Data has been saved into ``exploration_data/02_train`` and ``exploration_data/03_test``.\n",
    "\n",
    "-------------\n",
    "### Introduction <a class=\"tocSkip\"> </a>\n",
    "\n",
    "The purpose of this notebook is to separate ``sessions`` and ``users`` datasets into train and test datasets. *Train* datasets will be used to perform further exploratory analysis and train several ML predictive models, while *test* datasets will be used to confirm hipotheses on the data and final testing of ML models.\n",
    "\n",
    "As it has been seen during the previous exploration ``01_first_exploration``, the target variable is highly inbalanced. For that reason, *stratified train_test_split method* will be used, based on ``country_destination`` variable. The purpose is to mantain the ratios of that variable in both ``train`` and ``test`` datasets.\n",
    "\n",
    "### Summary of the analysis <a class=\"tocSkip\"> </a> \n",
    "\n",
    "1. ``Users`` and ``sessions`` datasets have been loaded. Only columns that contain information about the *user_id* and *country_destination* have been loaded.\n",
    "\n",
    "\n",
    "2. Both datasets have been processed, in order to get unique, non-null user ids.\n",
    "\n",
    "\n",
    "3. ``users`` and ``sessions`` datasets have been merged to filter users that are present in both datasets.\n",
    "\n",
    "\n",
    "4. A *stratified train_test_split* has been performed, using ``country_destination`` as a reference to stratify both datasets. The result of this are two dataframes, ``id_train`` and ``id_test`` containing the *user ids* for both train and test datasets. The size of the *test* dataset has been set to a 20% of the whole dataset.\n",
    "\n",
    "\n",
    "5. ``users`` and ``sessions`` datasets have been filtered by using ``id_train`` and ``id_test``\n",
    "\n",
    "\n",
    "6. The resulting 6 datasets ``users_train``, ``users_test``, ``sessions_train`` and ``sessions_test`` have been saved into ``notebooks/exploration_data/train`` and ``notebooks/exploration_data/test``\n",
    "\n",
    "\n",
    "### Important notes!  <a class=\"tocSkip\"> </a>\n",
    "**The data necessary to run this notebook, has not been included in the repository due to license limitations. Before running this notebook, make sure to run the code in ``AirBnbModel/notebooks/01_download_data/notebook.ipynb`` to download the data into ``AirBnbModel/notebooks/exploration_data/``**\n",
    "\n",
    "<div class=\"alert alert-block alert-warning\">\n",
    "<b>Warning:</b> For the data of this project to be accessible, the terms and conditions of the Kaggle competition must be accepted first. Details can be found in the following page: <a href=\"https://www.kaggle.com/c/airbnb-recruiting-new-user-bookings/data\"> Airbnb New User Bookings | Kaggle </a>\n",
    "    \n",
    "</div>\n",
    "\n",
    "----------"
   ]
  },
  {
   "cell_type": "markdown",
   "metadata": {
    "toc": true
   },
   "source": [
    "<h1>Table of Contents<span class=\"tocSkip\"></span></h1>\n",
    "<div class=\"toc\"><ul class=\"toc-item\"><li><span><a href=\"#1.-Libraries\" data-toc-modified-id=\"1.-Libraries-1\">1. Libraries</a></span></li><li><span><a href=\"#2.-Load-data\" data-toc-modified-id=\"2.-Load-data-2\">2. Load data</a></span></li><li><span><a href=\"#3.-Processing\" data-toc-modified-id=\"3.-Processing-3\">3. Processing</a></span></li><li><span><a href=\"#4.-Train-test-split\" data-toc-modified-id=\"4.-Train-test-split-4\">4. Train-test split</a></span><ul class=\"toc-item\"><li><span><a href=\"#4.1-Separation-of-train-and-test-datasets\" data-toc-modified-id=\"4.1-Separation-of-train-and-test-datasets-4.1\">4.1 Separation of train and test datasets</a></span></li><li><span><a href=\"#4.2-Saving-data\" data-toc-modified-id=\"4.2-Saving-data-4.2\">4.2 Saving data</a></span></li></ul></li></ul></div>"
   ]
  },
  {
   "cell_type": "code",
   "execution_count": 1,
   "metadata": {},
   "outputs": [
    {
     "name": "stdout",
     "output_type": "stream",
     "text": [
      "Last updated: 2021-09-15T08:27:30.493126+02:00\n",
      "\n",
      "Python implementation: CPython\n",
      "Python version       : 3.9.5\n",
      "IPython version      : 7.21.0\n",
      "\n",
      "Compiler    : MSC v.1916 64 bit (AMD64)\n",
      "OS          : Windows\n",
      "Release     : 10\n",
      "Machine     : AMD64\n",
      "Processor   : Intel64 Family 6 Model 78 Stepping 3, GenuineIntel\n",
      "CPU cores   : 4\n",
      "Architecture: 64bit\n",
      "\n"
     ]
    }
   ],
   "source": [
    "%load_ext watermark\n",
    "%watermark"
   ]
  },
  {
   "cell_type": "markdown",
   "metadata": {},
   "source": [
    "## 1. Libraries\n",
    "------------------"
   ]
  },
  {
   "cell_type": "code",
   "execution_count": 2,
   "metadata": {},
   "outputs": [],
   "source": [
    "# Set /notebooks dir to path to import modules\n",
    "import sys, os\n",
    "currentdir = os.getcwd()\n",
    "parentdir = os.path.dirname(currentdir)\n",
    "sys.path.append(parentdir)"
   ]
  },
  {
   "cell_type": "code",
   "execution_count": 3,
   "metadata": {},
   "outputs": [],
   "source": [
    "# Import libraries\n",
    "# ----------------\n",
    "\n",
    "# data manipulation\n",
    "import pandas as pd\n",
    "\n",
    "# machine learning\n",
    "from sklearn.model_selection import train_test_split\n",
    "\n",
    "# # Visualization\n",
    "%matplotlib inline\n",
    "%config InlineBackend.figure_format='retina'\n",
    "import matplotlib.pyplot as plt\n",
    "import seaborn as sns\n",
    "\n",
    "from modules.plots import column_autolabel\n",
    "\n",
    "plt.style.use('ggplot')\n",
    "sns.set(style='whitegrid', palette='Blues_d')"
   ]
  },
  {
   "cell_type": "code",
   "execution_count": 4,
   "metadata": {},
   "outputs": [],
   "source": [
    "# Path of the source data\n",
    "ROOT_PATH = '../exploration_data/01_raw'"
   ]
  },
  {
   "cell_type": "markdown",
   "metadata": {},
   "source": [
    "## 2. Load data\n",
    "------------------\n",
    "\n",
    "First, ``users`` and ``sessions`` datasets have been loaded as ``users_ids`` and ``sessions_ids``. Only columns related to the *user ids* and the country of destination have been loaded, as they will be used later for merging both datasets and to stratify the split."
   ]
  },
  {
   "cell_type": "code",
   "execution_count": 5,
   "metadata": {},
   "outputs": [
    {
     "data": {
      "text/html": [
       "<div>\n",
       "<style scoped>\n",
       "    .dataframe tbody tr th:only-of-type {\n",
       "        vertical-align: middle;\n",
       "    }\n",
       "\n",
       "    .dataframe tbody tr th {\n",
       "        vertical-align: top;\n",
       "    }\n",
       "\n",
       "    .dataframe thead th {\n",
       "        text-align: right;\n",
       "    }\n",
       "</style>\n",
       "<table border=\"1\" class=\"dataframe\">\n",
       "  <thead>\n",
       "    <tr style=\"text-align: right;\">\n",
       "      <th></th>\n",
       "      <th>country_destination</th>\n",
       "    </tr>\n",
       "    <tr>\n",
       "      <th>id</th>\n",
       "      <th></th>\n",
       "    </tr>\n",
       "  </thead>\n",
       "  <tbody>\n",
       "    <tr>\n",
       "      <th>gxn3p5htnn</th>\n",
       "      <td>NDF</td>\n",
       "    </tr>\n",
       "    <tr>\n",
       "      <th>820tgsjxq7</th>\n",
       "      <td>NDF</td>\n",
       "    </tr>\n",
       "    <tr>\n",
       "      <th>4ft3gnwmtx</th>\n",
       "      <td>US</td>\n",
       "    </tr>\n",
       "    <tr>\n",
       "      <th>bjjt8pjhuk</th>\n",
       "      <td>other</td>\n",
       "    </tr>\n",
       "    <tr>\n",
       "      <th>87mebub9p4</th>\n",
       "      <td>US</td>\n",
       "    </tr>\n",
       "  </tbody>\n",
       "</table>\n",
       "</div>"
      ],
      "text/plain": [
       "           country_destination\n",
       "id                            \n",
       "gxn3p5htnn                 NDF\n",
       "820tgsjxq7                 NDF\n",
       "4ft3gnwmtx                  US\n",
       "bjjt8pjhuk               other\n",
       "87mebub9p4                  US"
      ]
     },
     "execution_count": 5,
     "metadata": {},
     "output_type": "execute_result"
    }
   ],
   "source": [
    "# Loading users data\n",
    "users_path = os.path.join(ROOT_PATH, 'train_users_2.csv')\n",
    "users_ids = (\n",
    "    pd.read_csv(\n",
    "        filepath_or_buffer=users_path,\n",
    "        usecols=['id', 'country_destination'],\n",
    "        index_col='id'\n",
    "    )        \n",
    ")\n",
    "    \n",
    "users_ids.head()"
   ]
  },
  {
   "cell_type": "code",
   "execution_count": 6,
   "metadata": {},
   "outputs": [
    {
     "data": {
      "text/html": [
       "<div>\n",
       "<style scoped>\n",
       "    .dataframe tbody tr th:only-of-type {\n",
       "        vertical-align: middle;\n",
       "    }\n",
       "\n",
       "    .dataframe tbody tr th {\n",
       "        vertical-align: top;\n",
       "    }\n",
       "\n",
       "    .dataframe thead th {\n",
       "        text-align: right;\n",
       "    }\n",
       "</style>\n",
       "<table border=\"1\" class=\"dataframe\">\n",
       "  <thead>\n",
       "    <tr style=\"text-align: right;\">\n",
       "      <th></th>\n",
       "    </tr>\n",
       "    <tr>\n",
       "      <th>user_id</th>\n",
       "    </tr>\n",
       "  </thead>\n",
       "  <tbody>\n",
       "    <tr>\n",
       "      <th>d1mm9tcy42</th>\n",
       "    </tr>\n",
       "    <tr>\n",
       "      <th>d1mm9tcy42</th>\n",
       "    </tr>\n",
       "    <tr>\n",
       "      <th>d1mm9tcy42</th>\n",
       "    </tr>\n",
       "    <tr>\n",
       "      <th>d1mm9tcy42</th>\n",
       "    </tr>\n",
       "    <tr>\n",
       "      <th>d1mm9tcy42</th>\n",
       "    </tr>\n",
       "  </tbody>\n",
       "</table>\n",
       "</div>"
      ],
      "text/plain": [
       "Empty DataFrame\n",
       "Columns: []\n",
       "Index: [d1mm9tcy42, d1mm9tcy42, d1mm9tcy42, d1mm9tcy42, d1mm9tcy42]"
      ]
     },
     "execution_count": 6,
     "metadata": {},
     "output_type": "execute_result"
    }
   ],
   "source": [
    "# Loading sessions data\n",
    "sessions_path = os.path.join(ROOT_PATH, 'sessions.csv')\n",
    "sessions_ids = (\n",
    "    pd.read_csv(\n",
    "        filepath_or_buffer=sessions_path,\n",
    "        usecols=['user_id'],\n",
    "        index_col='user_id'\n",
    "    )        \n",
    ")\n",
    "    \n",
    "sessions_ids.head()"
   ]
  },
  {
   "cell_type": "markdown",
   "metadata": {},
   "source": [
    "## 3. Processing\n",
    "-----------------\n",
    "\n",
    "\n",
    "Next, ``users.ids`` and ``sessions.ids`` have been preprocessed, to leave only unique and non-null *user ids*. "
   ]
  },
  {
   "cell_type": "code",
   "execution_count": 7,
   "metadata": {},
   "outputs": [
    {
     "data": {
      "text/html": [
       "<div>\n",
       "<style scoped>\n",
       "    .dataframe tbody tr th:only-of-type {\n",
       "        vertical-align: middle;\n",
       "    }\n",
       "\n",
       "    .dataframe tbody tr th {\n",
       "        vertical-align: top;\n",
       "    }\n",
       "\n",
       "    .dataframe thead th {\n",
       "        text-align: right;\n",
       "    }\n",
       "</style>\n",
       "<table border=\"1\" class=\"dataframe\">\n",
       "  <thead>\n",
       "    <tr style=\"text-align: right;\">\n",
       "      <th></th>\n",
       "      <th>country_destination</th>\n",
       "    </tr>\n",
       "    <tr>\n",
       "      <th>user_id</th>\n",
       "      <th></th>\n",
       "    </tr>\n",
       "  </thead>\n",
       "  <tbody>\n",
       "    <tr>\n",
       "      <th>gxn3p5htnn</th>\n",
       "      <td>NDF</td>\n",
       "    </tr>\n",
       "    <tr>\n",
       "      <th>820tgsjxq7</th>\n",
       "      <td>NDF</td>\n",
       "    </tr>\n",
       "    <tr>\n",
       "      <th>4ft3gnwmtx</th>\n",
       "      <td>US</td>\n",
       "    </tr>\n",
       "    <tr>\n",
       "      <th>bjjt8pjhuk</th>\n",
       "      <td>other</td>\n",
       "    </tr>\n",
       "    <tr>\n",
       "      <th>87mebub9p4</th>\n",
       "      <td>US</td>\n",
       "    </tr>\n",
       "  </tbody>\n",
       "</table>\n",
       "</div>"
      ],
      "text/plain": [
       "           country_destination\n",
       "user_id                       \n",
       "gxn3p5htnn                 NDF\n",
       "820tgsjxq7                 NDF\n",
       "4ft3gnwmtx                  US\n",
       "bjjt8pjhuk               other\n",
       "87mebub9p4                  US"
      ]
     },
     "execution_count": 7,
     "metadata": {},
     "output_type": "execute_result"
    }
   ],
   "source": [
    "users_unique_ids = (\n",
    "    users_ids\n",
    "    .query(\"index.unique()\", engine=\"python\")\n",
    "    .query(\"index.notnull()\", engine=\"python\")\n",
    "    .rename_axis(index='user_id')\n",
    ")\n",
    "users_unique_ids.head()"
   ]
  },
  {
   "cell_type": "code",
   "execution_count": 8,
   "metadata": {},
   "outputs": [
    {
     "data": {
      "text/plain": [
       "0    d1mm9tcy42\n",
       "1    yo8nz8bqcq\n",
       "2    4grx6yxeby\n",
       "3    ncf87guaf0\n",
       "4    4rvqpxoh3h\n",
       "Name: user_id, dtype: object"
      ]
     },
     "execution_count": 8,
     "metadata": {},
     "output_type": "execute_result"
    }
   ],
   "source": [
    "sessions_unique_ids = pd.Series(\n",
    "    sessions_ids\n",
    "    .index\n",
    "    .unique()\n",
    "    .dropna()\n",
    ")\n",
    "sessions_unique_ids.head()"
   ]
  },
  {
   "cell_type": "markdown",
   "metadata": {},
   "source": [
    "Finally, both datasets **have been merged** using an *inner join*, in order to obtain **those users that belong to both ``users`` and ``sessions`` datasets.**"
   ]
  },
  {
   "cell_type": "code",
   "execution_count": 9,
   "metadata": {},
   "outputs": [
    {
     "data": {
      "text/html": [
       "<div>\n",
       "<style scoped>\n",
       "    .dataframe tbody tr th:only-of-type {\n",
       "        vertical-align: middle;\n",
       "    }\n",
       "\n",
       "    .dataframe tbody tr th {\n",
       "        vertical-align: top;\n",
       "    }\n",
       "\n",
       "    .dataframe thead th {\n",
       "        text-align: right;\n",
       "    }\n",
       "</style>\n",
       "<table border=\"1\" class=\"dataframe\">\n",
       "  <thead>\n",
       "    <tr style=\"text-align: right;\">\n",
       "      <th></th>\n",
       "      <th>user_id</th>\n",
       "      <th>country_destination</th>\n",
       "    </tr>\n",
       "  </thead>\n",
       "  <tbody>\n",
       "    <tr>\n",
       "      <th>0</th>\n",
       "      <td>d1mm9tcy42</td>\n",
       "      <td>other</td>\n",
       "    </tr>\n",
       "    <tr>\n",
       "      <th>1</th>\n",
       "      <td>yo8nz8bqcq</td>\n",
       "      <td>NDF</td>\n",
       "    </tr>\n",
       "    <tr>\n",
       "      <th>2</th>\n",
       "      <td>4grx6yxeby</td>\n",
       "      <td>NDF</td>\n",
       "    </tr>\n",
       "    <tr>\n",
       "      <th>3</th>\n",
       "      <td>ncf87guaf0</td>\n",
       "      <td>NDF</td>\n",
       "    </tr>\n",
       "    <tr>\n",
       "      <th>4</th>\n",
       "      <td>4rvqpxoh3h</td>\n",
       "      <td>GB</td>\n",
       "    </tr>\n",
       "    <tr>\n",
       "      <th>...</th>\n",
       "      <td>...</td>\n",
       "      <td>...</td>\n",
       "    </tr>\n",
       "    <tr>\n",
       "      <th>73810</th>\n",
       "      <td>zxodksqpep</td>\n",
       "      <td>NDF</td>\n",
       "    </tr>\n",
       "    <tr>\n",
       "      <th>73811</th>\n",
       "      <td>mhewnxesx9</td>\n",
       "      <td>NDF</td>\n",
       "    </tr>\n",
       "    <tr>\n",
       "      <th>73812</th>\n",
       "      <td>6o3arsjbb4</td>\n",
       "      <td>NDF</td>\n",
       "    </tr>\n",
       "    <tr>\n",
       "      <th>73813</th>\n",
       "      <td>jh95kwisub</td>\n",
       "      <td>NDF</td>\n",
       "    </tr>\n",
       "    <tr>\n",
       "      <th>73814</th>\n",
       "      <td>nw9fwlyb5f</td>\n",
       "      <td>NDF</td>\n",
       "    </tr>\n",
       "  </tbody>\n",
       "</table>\n",
       "<p>73815 rows × 2 columns</p>\n",
       "</div>"
      ],
      "text/plain": [
       "          user_id country_destination\n",
       "0      d1mm9tcy42               other\n",
       "1      yo8nz8bqcq                 NDF\n",
       "2      4grx6yxeby                 NDF\n",
       "3      ncf87guaf0                 NDF\n",
       "4      4rvqpxoh3h                  GB\n",
       "...           ...                 ...\n",
       "73810  zxodksqpep                 NDF\n",
       "73811  mhewnxesx9                 NDF\n",
       "73812  6o3arsjbb4                 NDF\n",
       "73813  jh95kwisub                 NDF\n",
       "73814  nw9fwlyb5f                 NDF\n",
       "\n",
       "[73815 rows x 2 columns]"
      ]
     },
     "execution_count": 9,
     "metadata": {},
     "output_type": "execute_result"
    }
   ],
   "source": [
    "valid_users = pd.merge(\n",
    "    left=sessions_unique_ids,\n",
    "    right=users_unique_ids,\n",
    "    how='inner',\n",
    "    on='user_id'\n",
    ")\n",
    "valid_users"
   ]
  },
  {
   "cell_type": "markdown",
   "metadata": {},
   "source": [
    "## 4. Train-test split\n",
    "------------------------------\n",
    "\n",
    "Next, *train_test split* has been performed, using *sklearn train_test_split* method. \n",
    "\n",
    "As it has been seen during the previous analysis ``01_first_exploration``, the target variable **is highly inbalanced**.\n",
    "To maintain the proportion of each target category in bot train and test dataset, a stratified split has been performed.\n",
    "\n",
    "In the following plot, the distribution of the target variable ``country_destination`` can be seen. That distribution has been used as a reference to perform the split."
   ]
  },
  {
   "cell_type": "code",
   "execution_count": 10,
   "metadata": {},
   "outputs": [
    {
     "data": {
      "image/png": "[encoded data removed]",
      "text/plain": [
       "<Figure size 1080x360 with 1 Axes>"
      ]
     },
     "metadata": {
      "image/png": {
       "height": 357,
       "width": 907
      }
     },
     "output_type": "display_data"
    }
   ],
   "source": [
    "fig = plt.figure(figsize = (15,5))\n",
    "ax = fig.add_subplot(1,1,1)\n",
    "\n",
    "order = (\n",
    "    valid_users\n",
    "    .country_destination\n",
    "    .value_counts()\n",
    "    .to_frame()\n",
    ")\n",
    "ax_1 = sns.countplot(\n",
    "    x=\"country_destination\",\n",
    "    data=valid_users,\n",
    "    palette=\"Blues_d\",\n",
    "    order = order.index\n",
    ")\n",
    "\n",
    "\n",
    "# Formatting\n",
    "column_autolabel(ax = ax_1, total_ratio = valid_users.country_destination.count())\n",
    "\n",
    "title = f\"{order.count().values[0]} different values\"\n",
    "plt.title(title, fontsize = 10)\n",
    "plt.suptitle('Distribution of the target variable over the full dataset', fontsize = 15)\n",
    "\n",
    "plt.show()"
   ]
  },
  {
   "cell_type": "markdown",
   "metadata": {},
   "source": [
    "The following function, uses the dataframe obtained in the previous section, to get the user_ids of those users that will be used for training and for testing.\n",
    "\n",
    "> **Testing dataset size has been set to 20% of all the unique, non-null users that belong to both ``users`` and ``sessions`` datasets**."
   ]
  },
  {
   "cell_type": "code",
   "execution_count": 11,
   "metadata": {},
   "outputs": [],
   "source": [
    "id_train, id_test = train_test_split(valid_users.user_id, test_size = 0.2,\n",
    "                                     stratify = valid_users.country_destination, random_state = 42)"
   ]
  },
  {
   "cell_type": "markdown",
   "metadata": {},
   "source": [
    "### 4.1 Separation of train and test datasets\n",
    "\n",
    "Once the train and test *user_ids* have been obtained, the full ``users`` and ``sessions`` datasets have been loaded, so they can be separated into train and test."
   ]
  },
  {
   "cell_type": "code",
   "execution_count": 12,
   "metadata": {},
   "outputs": [],
   "source": [
    "# Loading full users dataset\n",
    "full_users = (\n",
    "    pd.read_csv(\n",
    "        filepath_or_buffer=users_path,\n",
    "        index_col='id'\n",
    "    )        \n",
    ")\n",
    "\n",
    "# Loading full sessions dataset\n",
    "full_sessions = (\n",
    "    pd.read_csv(\n",
    "        filepath_or_buffer=sessions_path,\n",
    "        index_col='user_id'\n",
    "    )        \n",
    ")"
   ]
  },
  {
   "cell_type": "code",
   "execution_count": 13,
   "metadata": {},
   "outputs": [
    {
     "name": "stdout",
     "output_type": "stream",
     "text": [
      "users train dataset shape: (59052, 15)\n",
      "users test dataset shape: (14763, 15)\n"
     ]
    }
   ],
   "source": [
    "users_train = full_users[full_users.index.isin(id_train)]\n",
    "users_test = full_users[full_users.index.isin(id_test)]\n",
    "\n",
    "print(f\"users train dataset shape: {users_train.shape}\")\n",
    "print(f\"users test dataset shape: {users_test.shape}\")"
   ]
  },
  {
   "cell_type": "code",
   "execution_count": 14,
   "metadata": {},
   "outputs": [
    {
     "name": "stdout",
     "output_type": "stream",
     "text": [
      "sessions train dataset shape: (4421819, 5)\n",
      "sessions test dataset shape: (1116138, 5)\n"
     ]
    }
   ],
   "source": [
    "sessions_train = full_sessions[full_sessions.index.isin(id_train)]\n",
    "sessions_test = full_sessions[full_sessions.index.isin(id_test)]\n",
    "\n",
    "print(f\"sessions train dataset shape: {sessions_train.shape}\")\n",
    "print(f\"sessions test dataset shape: {sessions_test.shape}\")"
   ]
  },
  {
   "cell_type": "markdown",
   "metadata": {},
   "source": [
    "### 4.2 Saving data\n",
    "\n",
    "Finally, the data has been saved into new folders. A *csv* containing only the *ids* of the users has been also saved into each folder."
   ]
  },
  {
   "cell_type": "code",
   "execution_count": 15,
   "metadata": {},
   "outputs": [],
   "source": [
    "# Definition and creation of the folder to contain the training data\n",
    "train_destination = '../exploration_data/02_train'\n",
    "os.makedirs(train_destination, exist_ok=True)\n",
    "\n",
    "# Save training data\n",
    "users_train.to_csv(os.path.join(train_destination, 'users.csv'))\n",
    "sessions_train.to_csv(os.path.join(train_destination, 'sessions.csv'))\n",
    "\n",
    "# Save user_id data\n",
    "id_train.to_csv(os.path.join(train_destination, 'ids.csv'))"
   ]
  },
  {
   "cell_type": "code",
   "execution_count": 16,
   "metadata": {},
   "outputs": [],
   "source": [
    "# Definition and creation of the folder to contain the training data\n",
    "test_destination = '../exploration_data/03_test'\n",
    "os.makedirs(test_destination, exist_ok=True)\n",
    "\n",
    "# Save training data\n",
    "users_test.to_csv(os.path.join(test_destination, 'users.csv'))\n",
    "users_test.to_csv(os.path.join(test_destination, 'sessions.csv'))\n",
    "\n",
    "# Save user_id data\n",
    "id_test.to_csv(os.path.join(test_destination, 'ids.csv'))"
   ]
  }
 ],
 "metadata": {
  "kernelspec": {
   "display_name": "AirBnb",
   "language": "python",
   "name": "airbnb"
  },
  "language_info": {
   "codemirror_mode": {
    "name": "ipython",
    "version": 3
   },
   "file_extension": ".py",
   "mimetype": "text/x-python",
   "name": "python",
   "nbconvert_exporter": "python",
   "pygments_lexer": "ipython3",
   "version": "3.9.5"
  },
  "toc": {
   "base_numbering": 1,
   "nav_menu": {
    "height": "338px",
    "width": "466px"
   },
   "number_sections": false,
   "sideBar": true,
   "skip_h1_title": true,
   "title_cell": "Table of Contents",
   "title_sidebar": "Contents",
   "toc_cell": true,
   "toc_position": {
    "height": "calc(100% - 180px)",
    "left": "10px",
    "top": "150px",
    "width": "384px"
   },
   "toc_section_display": true,
   "toc_window_display": false
  }
 },
 "nbformat": 4,
 "nbformat_minor": 4
}
