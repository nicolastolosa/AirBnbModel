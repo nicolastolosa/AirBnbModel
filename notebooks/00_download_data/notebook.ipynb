{
 "cells": [
  {
   "cell_type": "markdown",
   "metadata": {},
   "source": [
    "# Download and uncompress data for analysis from Kaggle API\n",
    "\n",
    "------------------\n",
    "![GitHub](https://img.shields.io/github/license/nicolastolosa/AirBnbModel)\n",
    "\n",
    "**Author:** Nicolás Tolosa (github nicolastolosa)\n",
    "\n",
    "**Achievements:** **(1)** Downloaded relevant data for the project from Kaggle API into *../exploration_data* folder. **(2)** Uncompressed the data into csv format and **(3)** Removed *.zip* files.\n",
    "\n",
    "-------------\n",
    "### Introduction\n",
    "The purpose of this notebook is to get the data necessary to develop *AirBnbModel* project. \n",
    "For doing so, first, a zip file containing all the files of the dataset is downloaded using the API provided by Kaggle. \n",
    "Then, the contents of the file are unzipped into the path stored into the `destination_path` variable and finally, all the *.zip* files are removed, to leave only data in *.csv* format.\n",
    "\n",
    "\n",
    "### Important notes!\n",
    "**For the API query to be sucessfully run, and hence this code sucessfully run, Kaggle API user-key pair, must be present on *.kaggle/kaggle.json* folder.** Further information can be found in __[Public API Documentation | Kaggle](https://www.kaggle.com/docs/api#authentication)__\n",
    "\n",
    "<div class=\"alert alert-block alert-warning\">\n",
    "<b>Warning:</b> For the data of this project to be accessible, the terms and conditions of the Kaggle competition must be accepted first. Details can be found in the following page: <a href=\"https://www.kaggle.com/c/airbnb-recruiting-new-user-bookings/data\"> Airbnb New User Bookings | Kaggle </a>\n",
    "    \n",
    "</div>\n",
    "\n",
    "### Table of contents\n",
    "* [1. Libraries](#1)\n",
    "* [2. Setup](#2)\n",
    "* [3. Download and unzip data](#3)\n",
    "    * [3.1 Main folder](#3_1)\n",
    "    * [3.2 *.csv* files](#3_2)\n",
    "* [4. Resulting data](#4)\n",
    "\n",
    "----------\n",
    "\n"
   ]
  },
  {
   "cell_type": "code",
   "execution_count": 1,
   "metadata": {},
   "outputs": [
    {
     "name": "stdout",
     "output_type": "stream",
     "text": [
      "Last updated: 2021-08-15T00:19:25.005343+02:00\n",
      "\n",
      "Python implementation: CPython\n",
      "Python version       : 3.9.5\n",
      "IPython version      : 7.21.0\n",
      "\n",
      "Compiler    : MSC v.1916 64 bit (AMD64)\n",
      "OS          : Windows\n",
      "Release     : 10\n",
      "Machine     : AMD64\n",
      "Processor   : Intel64 Family 6 Model 78 Stepping 3, GenuineIntel\n",
      "CPU cores   : 4\n",
      "Architecture: 64bit\n",
      "\n"
     ]
    }
   ],
   "source": [
    "%load_ext watermark\n",
    "%watermark"
   ]
  },
  {
   "cell_type": "markdown",
   "metadata": {},
   "source": [
    "***\n",
    "\n",
    "\n",
    "## 1. Libraries <a class=\"anchor\" id=\"1\"></a>"
   ]
  },
  {
   "cell_type": "code",
   "execution_count": 2,
   "metadata": {},
   "outputs": [],
   "source": [
    "# Import libraries\n",
    "# ----------------\n",
    "\n",
    "# system\n",
    "import os\n",
    "import zipfile\n",
    "\n",
    "# APIs\n",
    "import kaggle"
   ]
  },
  {
   "cell_type": "markdown",
   "metadata": {},
   "source": [
    "---------------------\n",
    "\n",
    "## 2. Setup <a class=\"anchor\" id=\"2\"></a>"
   ]
  },
  {
   "cell_type": "code",
   "execution_count": 3,
   "metadata": {},
   "outputs": [],
   "source": [
    "# Definition and authentincation of the Kaggle API\n",
    "kaggle_api = kaggle.KaggleApi()\n",
    "kaggle_api.authenticate()"
   ]
  },
  {
   "cell_type": "code",
   "execution_count": 4,
   "metadata": {},
   "outputs": [],
   "source": [
    "# Definition and creation of the folder to contain the data\n",
    "destination_path = '../exploration_data'\n",
    "os.makedirs(destination_path, exist_ok=True)"
   ]
  },
  {
   "cell_type": "markdown",
   "metadata": {},
   "source": [
    "------------------\n",
    "\n",
    "## 3. Download and unzip data <a class=\"anchor\" id=\"3\"></a>"
   ]
  },
  {
   "cell_type": "markdown",
   "metadata": {},
   "source": [
    "### 3.1 Main folder <a class=\"anchor\" id=\"3_1\"></a>\n",
    "A main *.zip* file containing the whole dataset will be extracted using `competition_download_files`.\n",
    "\n",
    "The files contained in that main file, can be seen in the following code block."
   ]
  },
  {
   "cell_type": "code",
   "execution_count": 5,
   "metadata": {},
   "outputs": [
    {
     "data": {
      "text/plain": [
       "[age_gender_bkts.csv.zip,\n",
       " countries.csv.zip,\n",
       " test_users.csv.zip,\n",
       " train_users_2.csv.zip,\n",
       " sample_submission_NDF.csv.zip,\n",
       " sessions.csv.zip]"
      ]
     },
     "execution_count": 5,
     "metadata": {},
     "output_type": "execute_result"
    }
   ],
   "source": [
    "competition_name = 'airbnb-recruiting-new-user-bookings'\n",
    "competition_datasets = kaggle_api.competition_list_files(competition_name)\n",
    "competition_datasets"
   ]
  },
  {
   "cell_type": "markdown",
   "metadata": {},
   "source": [
    "The file is downloaded and stores into `path`, and its contents are extracted."
   ]
  },
  {
   "cell_type": "code",
   "execution_count": 6,
   "metadata": {},
   "outputs": [],
   "source": [
    "kaggle_api.competition_download_files(competition=competition_name, path=destination_path)"
   ]
  },
  {
   "cell_type": "code",
   "execution_count": 7,
   "metadata": {},
   "outputs": [],
   "source": [
    "zip_path = os.path.join(destination_path, competition_name + '.zip')\n",
    "with zipfile.ZipFile(zip_path, 'r') as zip_ref:\n",
    "    zip_ref.extractall(destination_path)\n",
    "    \n",
    "os.remove(zip_path) # Remove .zip after extracting its contents "
   ]
  },
  {
   "cell_type": "markdown",
   "metadata": {},
   "source": [
    "### 3.2 *.csv* files <a class=\"anchor\" id=\"3_2\"></a>"
   ]
  },
  {
   "cell_type": "markdown",
   "metadata": {},
   "source": [
    "The files extracted on the previous step, consist on further *.zip* files, which contain the *.csv* files of the dataset. The following step, consists on extracting those *.csv* files and, lastly, removing all the *.zip* files from the path folder."
   ]
  },
  {
   "cell_type": "code",
   "execution_count": 8,
   "metadata": {},
   "outputs": [
    {
     "data": {
      "text/plain": [
       "[age_gender_bkts.csv.zip,\n",
       " countries.csv.zip,\n",
       " test_users.csv.zip,\n",
       " train_users_2.csv.zip,\n",
       " sample_submission_NDF.csv.zip,\n",
       " sessions.csv.zip]"
      ]
     },
     "execution_count": 8,
     "metadata": {},
     "output_type": "execute_result"
    }
   ],
   "source": [
    "competition_datasets # Files extracted on the previous step"
   ]
  },
  {
   "cell_type": "code",
   "execution_count": 9,
   "metadata": {},
   "outputs": [],
   "source": [
    "for dataset in competition_datasets:\n",
    "    zip_path = os.path.join(destination_path, str(dataset))\n",
    "    \n",
    "    with zipfile.ZipFile(zip_path, 'r') as zip_ref:\n",
    "        zip_ref.extractall(destination_path)\n",
    "        \n",
    "    os.remove(zip_path)"
   ]
  },
  {
   "cell_type": "markdown",
   "metadata": {},
   "source": [
    "---------------------\n",
    "## 4. Resulting data <a class=\"anchor\" id=\"4\"></a>\n",
    "\n",
    "The final structure of the folder, once the data has been extracted can be seen in the following code block:"
   ]
  },
  {
   "cell_type": "code",
   "execution_count": 10,
   "metadata": {},
   "outputs": [
    {
     "data": {
      "text/plain": [
       "['age_gender_bkts.csv',\n",
       " 'countries.csv',\n",
       " 'sample_submission_NDF.csv',\n",
       " 'sessions.csv',\n",
       " 'test_users.csv',\n",
       " 'train_users_2.csv']"
      ]
     },
     "execution_count": 10,
     "metadata": {},
     "output_type": "execute_result"
    }
   ],
   "source": [
    "os.listdir(destination_path)"
   ]
  }
 ],
 "metadata": {
  "kernelspec": {
   "display_name": "AirBnb",
   "language": "python",
   "name": "airbnb"
  },
  "language_info": {
   "codemirror_mode": {
    "name": "ipython",
    "version": 3
   },
   "file_extension": ".py",
   "mimetype": "text/x-python",
   "name": "python",
   "nbconvert_exporter": "python",
   "pygments_lexer": "ipython3",
   "version": "3.9.5"
  }
 },
 "nbformat": 4,
 "nbformat_minor": 4
}
